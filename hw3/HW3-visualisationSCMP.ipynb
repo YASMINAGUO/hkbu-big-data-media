{
 "cells": [
  {
   "cell_type": "code",
   "execution_count": 1,
   "metadata": {},
   "outputs": [
    {
     "name": "stdout",
     "output_type": "stream",
     "text": [
      "Requirement already satisfied: pandas in /Users/p17437695/Desktop/hw3/venv/lib/python3.6/site-packages\n",
      "Requirement already satisfied: python-dateutil>=2 in /Users/p17437695/Desktop/hw3/venv/lib/python3.6/site-packages (from pandas)\n",
      "Requirement already satisfied: numpy>=1.9.0 in /Users/p17437695/Desktop/hw3/venv/lib/python3.6/site-packages (from pandas)\n",
      "Requirement already satisfied: pytz>=2011k in /Users/p17437695/Desktop/hw3/venv/lib/python3.6/site-packages (from pandas)\n",
      "Requirement already satisfied: six>=1.5 in /Users/p17437695/Desktop/hw3/venv/lib/python3.6/site-packages (from python-dateutil>=2->pandas)\n",
      "Requirement already satisfied: matplotlib in /Users/p17437695/Desktop/hw3/venv/lib/python3.6/site-packages\n",
      "Requirement already satisfied: numpy>=1.7.1 in /Users/p17437695/Desktop/hw3/venv/lib/python3.6/site-packages (from matplotlib)\n",
      "Requirement already satisfied: kiwisolver>=1.0.1 in /Users/p17437695/Desktop/hw3/venv/lib/python3.6/site-packages (from matplotlib)\n",
      "Requirement already satisfied: python-dateutil>=2.1 in /Users/p17437695/Desktop/hw3/venv/lib/python3.6/site-packages (from matplotlib)\n",
      "Requirement already satisfied: six>=1.10 in /Users/p17437695/Desktop/hw3/venv/lib/python3.6/site-packages (from matplotlib)\n",
      "Requirement already satisfied: pyparsing!=2.0.4,!=2.1.2,!=2.1.6,>=2.0.1 in /Users/p17437695/Desktop/hw3/venv/lib/python3.6/site-packages (from matplotlib)\n",
      "Requirement already satisfied: pytz in /Users/p17437695/Desktop/hw3/venv/lib/python3.6/site-packages (from matplotlib)\n",
      "Requirement already satisfied: cycler>=0.10 in /Users/p17437695/Desktop/hw3/venv/lib/python3.6/site-packages (from matplotlib)\n",
      "Requirement already satisfied: setuptools in /Users/p17437695/Desktop/hw3/venv/lib/python3.6/site-packages (from kiwisolver>=1.0.1->matplotlib)\n",
      "Requirement already satisfied: seaborn in /Users/p17437695/Desktop/hw3/venv/lib/python3.6/site-packages\n",
      "Requirement already satisfied: wordcloud in /Users/p17437695/Desktop/hw3/venv/lib/python3.6/site-packages\n",
      "Requirement already satisfied: matplotlib in /Users/p17437695/Desktop/hw3/venv/lib/python3.6/site-packages (from wordcloud)\n",
      "Requirement already satisfied: numpy>=1.6.1 in /Users/p17437695/Desktop/hw3/venv/lib/python3.6/site-packages (from wordcloud)\n",
      "Requirement already satisfied: pillow in /Users/p17437695/Desktop/hw3/venv/lib/python3.6/site-packages (from wordcloud)\n",
      "Requirement already satisfied: kiwisolver>=1.0.1 in /Users/p17437695/Desktop/hw3/venv/lib/python3.6/site-packages (from matplotlib->wordcloud)\n",
      "Requirement already satisfied: cycler>=0.10 in /Users/p17437695/Desktop/hw3/venv/lib/python3.6/site-packages (from matplotlib->wordcloud)\n",
      "Requirement already satisfied: pyparsing!=2.0.4,!=2.1.2,!=2.1.6,>=2.0.1 in /Users/p17437695/Desktop/hw3/venv/lib/python3.6/site-packages (from matplotlib->wordcloud)\n",
      "Requirement already satisfied: pytz in /Users/p17437695/Desktop/hw3/venv/lib/python3.6/site-packages (from matplotlib->wordcloud)\n",
      "Requirement already satisfied: python-dateutil>=2.1 in /Users/p17437695/Desktop/hw3/venv/lib/python3.6/site-packages (from matplotlib->wordcloud)\n",
      "Requirement already satisfied: six>=1.10 in /Users/p17437695/Desktop/hw3/venv/lib/python3.6/site-packages (from matplotlib->wordcloud)\n",
      "Requirement already satisfied: setuptools in /Users/p17437695/Desktop/hw3/venv/lib/python3.6/site-packages (from kiwisolver>=1.0.1->matplotlib->wordcloud)\n"
     ]
    }
   ],
   "source": [
    "!pip install pandas\n",
    "!pip install matplotlib\n",
    "!pip install seaborn\n",
    "!pip install wordcloud"
   ]
  },
  {
   "cell_type": "code",
   "execution_count": 2,
   "metadata": {},
   "outputs": [],
   "source": [
    "import pandas \n",
    "import matplotlib\n",
    "import seaborn"
   ]
  },
  {
   "cell_type": "code",
   "execution_count": 3,
   "metadata": {},
   "outputs": [],
   "source": [
    "df= pandas.read_csv('scmp.csv')"
   ]
  },
  {
   "cell_type": "code",
   "execution_count": 4,
   "metadata": {
    "scrolled": true
   },
   "outputs": [
    {
     "data": {
      "text/html": [
       "<div>\n",
       "<style scoped>\n",
       "    .dataframe tbody tr th:only-of-type {\n",
       "        vertical-align: middle;\n",
       "    }\n",
       "\n",
       "    .dataframe tbody tr th {\n",
       "        vertical-align: top;\n",
       "    }\n",
       "\n",
       "    .dataframe thead th {\n",
       "        text-align: right;\n",
       "    }\n",
       "</style>\n",
       "<table border=\"1\" class=\"dataframe\">\n",
       "  <thead>\n",
       "    <tr style=\"text-align: right;\">\n",
       "      <th></th>\n",
       "      <th>headlines</th>\n",
       "      <th>updated_time</th>\n",
       "    </tr>\n",
       "  </thead>\n",
       "  <tbody>\n",
       "    <tr>\n",
       "      <th>0</th>\n",
       "      <td>US officials to meet farm groups as trade war ...</td>\n",
       "      <td>29 Mar 2018 - 5:33pm</td>\n",
       "    </tr>\n",
       "    <tr>\n",
       "      <th>1</th>\n",
       "      <td>‘America first’ shouldn’t target Chinese stude...</td>\n",
       "      <td>29 Mar 2018 - 1:19pm</td>\n",
       "    </tr>\n",
       "    <tr>\n",
       "      <th>2</th>\n",
       "      <td>Trump seeks French and German support in China...</td>\n",
       "      <td>28 Mar 2018 - 7:51pm</td>\n",
       "    </tr>\n",
       "  </tbody>\n",
       "</table>\n",
       "</div>"
      ],
      "text/plain": [
       "                                           headlines          updated_time\n",
       "0  US officials to meet farm groups as trade war ...  29 Mar 2018 - 5:33pm\n",
       "1  ‘America first’ shouldn’t target Chinese stude...  29 Mar 2018 - 1:19pm\n",
       "2  Trump seeks French and German support in China...  28 Mar 2018 - 7:51pm"
      ]
     },
     "execution_count": 4,
     "metadata": {},
     "output_type": "execute_result"
    }
   ],
   "source": [
    "df[:3]"
   ]
  },
  {
   "cell_type": "code",
   "execution_count": 5,
   "metadata": {},
   "outputs": [
    {
     "data": {
      "text/plain": [
       "['29 Mar 2018 ', ' 5:33pm']"
      ]
     },
     "execution_count": 5,
     "metadata": {},
     "output_type": "execute_result"
    }
   ],
   "source": [
    "df['updated_time'][0].split('-')"
   ]
  },
  {
   "cell_type": "code",
   "execution_count": 6,
   "metadata": {},
   "outputs": [],
   "source": [
    "daytime = []\n",
    "for time in df['updated_time']:\n",
    "    daytime.extend(str(time).split('-'))"
   ]
  },
  {
   "cell_type": "code",
   "execution_count": 7,
   "metadata": {},
   "outputs": [
    {
     "data": {
      "text/plain": [
       "['29 Mar 2018 ', ' 5:33pm', '29 Mar 2018 ']"
      ]
     },
     "execution_count": 7,
     "metadata": {},
     "output_type": "execute_result"
    }
   ],
   "source": [
    "daytime[:3]"
   ]
  },
  {
   "cell_type": "code",
   "execution_count": 8,
   "metadata": {
    "scrolled": true
   },
   "outputs": [],
   "source": [
    "date = []\n",
    "for i in range(0,len(daytime)):\n",
    "    if i % 2 ==0:\n",
    "        date.append(daytime[i])"
   ]
  },
  {
   "cell_type": "code",
   "execution_count": 9,
   "metadata": {},
   "outputs": [
    {
     "data": {
      "text/plain": [
       "['29 Mar 2018 ', '29 Mar 2018 ', '28 Mar 2018 ']"
      ]
     },
     "execution_count": 9,
     "metadata": {},
     "output_type": "execute_result"
    }
   ],
   "source": [
    "date[:3]"
   ]
  },
  {
   "cell_type": "code",
   "execution_count": 10,
   "metadata": {},
   "outputs": [],
   "source": [
    "df['date'] = date"
   ]
  },
  {
   "cell_type": "code",
   "execution_count": 11,
   "metadata": {},
   "outputs": [
    {
     "data": {
      "text/plain": [
       "23 Mar 2018     95\n",
       "24 Mar 2018      6\n",
       "28 Mar 2018      3\n",
       "25 Mar 2018      3\n",
       "29 Mar 2018      2\n",
       "27 Mar 2018      2\n",
       "26 Mar 2018      2\n",
       "Name: date, dtype: int64"
      ]
     },
     "execution_count": 11,
     "metadata": {},
     "output_type": "execute_result"
    }
   ],
   "source": [
    "df['date'].value_counts()"
   ]
  },
  {
   "cell_type": "code",
   "execution_count": 12,
   "metadata": {},
   "outputs": [],
   "source": [
    "mapping = {\n",
    "    '23 Mar 2018 ':323,\n",
    "    '24 Mar 2018 ':324,\n",
    "    '25 Mar 2018 ':325,\n",
    "    '28 Mar 2018 ':328,\n",
    "    '26 Mar 2018 ':326,\n",
    "    '27 Mar 2018 ':327,\n",
    "    '29 Mar 2018 ':329\n",
    "    \n",
    "}"
   ]
  },
  {
   "cell_type": "code",
   "execution_count": 13,
   "metadata": {},
   "outputs": [
    {
     "data": {
      "text/plain": [
       "329"
      ]
     },
     "execution_count": 13,
     "metadata": {},
     "output_type": "execute_result"
    }
   ],
   "source": [
    "def cleaning(e):\n",
    "    return mapping.get(e, 0)\n",
    "\n",
    "cleaning('29 Mar 2018 ')"
   ]
  },
  {
   "cell_type": "code",
   "execution_count": 14,
   "metadata": {},
   "outputs": [],
   "source": [
    "df['date_num'] = df['date'].apply(cleaning)"
   ]
  },
  {
   "cell_type": "code",
   "execution_count": 15,
   "metadata": {},
   "outputs": [
    {
     "data": {
      "text/html": [
       "<div>\n",
       "<style scoped>\n",
       "    .dataframe tbody tr th:only-of-type {\n",
       "        vertical-align: middle;\n",
       "    }\n",
       "\n",
       "    .dataframe tbody tr th {\n",
       "        vertical-align: top;\n",
       "    }\n",
       "\n",
       "    .dataframe thead th {\n",
       "        text-align: right;\n",
       "    }\n",
       "</style>\n",
       "<table border=\"1\" class=\"dataframe\">\n",
       "  <thead>\n",
       "    <tr style=\"text-align: right;\">\n",
       "      <th></th>\n",
       "      <th>headlines</th>\n",
       "      <th>updated_time</th>\n",
       "      <th>date</th>\n",
       "      <th>date_num</th>\n",
       "    </tr>\n",
       "  </thead>\n",
       "  <tbody>\n",
       "    <tr>\n",
       "      <th>0</th>\n",
       "      <td>US officials to meet farm groups as trade war ...</td>\n",
       "      <td>29 Mar 2018 - 5:33pm</td>\n",
       "      <td>29 Mar 2018</td>\n",
       "      <td>329</td>\n",
       "    </tr>\n",
       "    <tr>\n",
       "      <th>1</th>\n",
       "      <td>‘America first’ shouldn’t target Chinese stude...</td>\n",
       "      <td>29 Mar 2018 - 1:19pm</td>\n",
       "      <td>29 Mar 2018</td>\n",
       "      <td>329</td>\n",
       "    </tr>\n",
       "    <tr>\n",
       "      <th>2</th>\n",
       "      <td>Trump seeks French and German support in China...</td>\n",
       "      <td>28 Mar 2018 - 7:51pm</td>\n",
       "      <td>28 Mar 2018</td>\n",
       "      <td>328</td>\n",
       "    </tr>\n",
       "  </tbody>\n",
       "</table>\n",
       "</div>"
      ],
      "text/plain": [
       "                                           headlines          updated_time  \\\n",
       "0  US officials to meet farm groups as trade war ...  29 Mar 2018 - 5:33pm   \n",
       "1  ‘America first’ shouldn’t target Chinese stude...  29 Mar 2018 - 1:19pm   \n",
       "2  Trump seeks French and German support in China...  28 Mar 2018 - 7:51pm   \n",
       "\n",
       "           date  date_num  \n",
       "0  29 Mar 2018        329  \n",
       "1  29 Mar 2018        329  \n",
       "2  28 Mar 2018        328  "
      ]
     },
     "execution_count": 15,
     "metadata": {},
     "output_type": "execute_result"
    }
   ],
   "source": [
    "df.head(3)"
   ]
  },
  {
   "cell_type": "code",
   "execution_count": 16,
   "metadata": {},
   "outputs": [],
   "source": [
    "all_text = []\n",
    "for text in df['headlines']:\n",
    "    all_text.extend(str(text).split())"
   ]
  },
  {
   "cell_type": "code",
   "execution_count": 17,
   "metadata": {},
   "outputs": [],
   "source": [
    "word_count = {}"
   ]
  },
  {
   "cell_type": "code",
   "execution_count": 18,
   "metadata": {},
   "outputs": [],
   "source": [
    "for word in all_text:\n",
    "    if word not in word_count:\n",
    "        word_count[word] = 1\n",
    "    else:\n",
    "        word_count[word] = word_count[word] + 1"
   ]
  },
  {
   "cell_type": "code",
   "execution_count": 19,
   "metadata": {},
   "outputs": [
    {
     "data": {
      "text/html": [
       "<div>\n",
       "<style scoped>\n",
       "    .dataframe tbody tr th:only-of-type {\n",
       "        vertical-align: middle;\n",
       "    }\n",
       "\n",
       "    .dataframe tbody tr th {\n",
       "        vertical-align: top;\n",
       "    }\n",
       "\n",
       "    .dataframe thead th {\n",
       "        text-align: right;\n",
       "    }\n",
       "</style>\n",
       "<table border=\"1\" class=\"dataframe\">\n",
       "  <thead>\n",
       "    <tr style=\"text-align: right;\">\n",
       "      <th></th>\n",
       "      <th>index</th>\n",
       "      <th>0</th>\n",
       "    </tr>\n",
       "  </thead>\n",
       "  <tbody>\n",
       "    <tr>\n",
       "      <th>0</th>\n",
       "      <td>-</td>\n",
       "      <td>2</td>\n",
       "    </tr>\n",
       "    <tr>\n",
       "      <th>1</th>\n",
       "      <td>...</td>\n",
       "      <td>1</td>\n",
       "    </tr>\n",
       "    <tr>\n",
       "      <th>2</th>\n",
       "      <td>11</td>\n",
       "      <td>1</td>\n",
       "    </tr>\n",
       "  </tbody>\n",
       "</table>\n",
       "</div>"
      ],
      "text/plain": [
       "  index  0\n",
       "0     -  2\n",
       "1   ...  1\n",
       "2    11  1"
      ]
     },
     "execution_count": 19,
     "metadata": {},
     "output_type": "execute_result"
    }
   ],
   "source": [
    "pandas.Series(word_count).to_frame().reset_index().head(3)"
   ]
  },
  {
   "cell_type": "code",
   "execution_count": 20,
   "metadata": {},
   "outputs": [
    {
     "data": {
      "text/plain": [
       "trade    64\n",
       "US       53\n",
       "China    52\n",
       "dtype: int64"
      ]
     },
     "execution_count": 20,
     "metadata": {},
     "output_type": "execute_result"
    }
   ],
   "source": [
    "pandas.Series(word_count).sort_values(ascending=False)[:3]"
   ]
  },
  {
   "cell_type": "code",
   "execution_count": 21,
   "metadata": {},
   "outputs": [],
   "source": [
    "df_word_count = pandas.Series(word_count).to_frame().reset_index()"
   ]
  },
  {
   "cell_type": "code",
   "execution_count": 22,
   "metadata": {},
   "outputs": [
    {
     "data": {
      "text/html": [
       "<div>\n",
       "<style scoped>\n",
       "    .dataframe tbody tr th:only-of-type {\n",
       "        vertical-align: middle;\n",
       "    }\n",
       "\n",
       "    .dataframe tbody tr th {\n",
       "        vertical-align: top;\n",
       "    }\n",
       "\n",
       "    .dataframe thead th {\n",
       "        text-align: right;\n",
       "    }\n",
       "</style>\n",
       "<table border=\"1\" class=\"dataframe\">\n",
       "  <thead>\n",
       "    <tr style=\"text-align: right;\">\n",
       "      <th></th>\n",
       "      <th>index</th>\n",
       "      <th>0</th>\n",
       "    </tr>\n",
       "  </thead>\n",
       "  <tbody>\n",
       "    <tr>\n",
       "      <th>90</th>\n",
       "      <td>Trump’s</td>\n",
       "      <td>10</td>\n",
       "    </tr>\n",
       "    <tr>\n",
       "      <th>307</th>\n",
       "      <td>may</td>\n",
       "      <td>7</td>\n",
       "    </tr>\n",
       "    <tr>\n",
       "      <th>446</th>\n",
       "      <td>talks</td>\n",
       "      <td>7</td>\n",
       "    </tr>\n",
       "  </tbody>\n",
       "</table>\n",
       "</div>"
      ],
      "text/plain": [
       "       index   0\n",
       "90   Trump’s  10\n",
       "307      may   7\n",
       "446    talks   7"
      ]
     },
     "execution_count": 22,
     "metadata": {},
     "output_type": "execute_result"
    }
   ],
   "source": [
    "stop_words = set([\n",
    "    'trade',\n",
    "    'Trump',\n",
    "    'Chinese',\n",
    "    'war',\n",
    "    'China',\n",
    "    'US',\n",
    "    'tariffs',\n",
    "    'i',\n",
    "    'me',\n",
    "    'my',\n",
    "    'myself',\n",
    "    'we',\n",
    "    'our',\n",
    "    'ours',\n",
    "    'ourselves',\n",
    "    'you',\n",
    "    'your',\n",
    "    'yours',\n",
    "    'yourself',\n",
    "    'yourselves',\n",
    "    'he',\n",
    "    'him',\n",
    "    'his',\n",
    "    'himself',\n",
    "    'she',\n",
    "    'her',\n",
    "    'hers',\n",
    "    'herself',\n",
    "    'it',\n",
    "    'its',\n",
    "    'itself',\n",
    "    'they',\n",
    "    'them',\n",
    "    'their',\n",
    "    'theirs',\n",
    "    'themselves',\n",
    "    'what',\n",
    "    'which',\n",
    "    'who',\n",
    "    'whom',\n",
    "    'this',\n",
    "    'that',\n",
    "    'these',\n",
    "    'those',\n",
    "    'am',\n",
    "    'is',\n",
    "    'are',\n",
    "    'was',\n",
    "    'were',\n",
    "    'be',\n",
    "    'been',\n",
    "    'being',\n",
    "    'have',\n",
    "    'has',\n",
    "    'had',\n",
    "    'having',\n",
    "    'do',\n",
    "    'does',\n",
    "    'did',\n",
    "    'doing',\n",
    "    'a',\n",
    "    'an',\n",
    "    'the',\n",
    "    'and',\n",
    "    'but',\n",
    "    'if',\n",
    "    'or',\n",
    "    'because',\n",
    "    'as',\n",
    "    'until',\n",
    "    'while',\n",
    "    'of',\n",
    "    'at',\n",
    "    'by',\n",
    "    'for',\n",
    "    'with',\n",
    "    'about',\n",
    "    'against',\n",
    "    'between',\n",
    "    'into',\n",
    "    'through',\n",
    "    'during',\n",
    "    'before',\n",
    "    'after',\n",
    "    'above',\n",
    "    'below',\n",
    "    'to',\n",
    "    'from',\n",
    "    'up',\n",
    "    'down',\n",
    "    'in',\n",
    "    'out',\n",
    "    'on',\n",
    "    'off',\n",
    "    'over',\n",
    "    'under',\n",
    "    'again',\n",
    "    'further',\n",
    "    'then',\n",
    "    'once',\n",
    "    'here',\n",
    "    'there',\n",
    "    'when',\n",
    "    'where',\n",
    "    'why',\n",
    "    'how',\n",
    "    'all',\n",
    "    'any',\n",
    "    'both',\n",
    "    'each',\n",
    "    'few',\n",
    "    'more',\n",
    "    'most',\n",
    "    'other',\n",
    "    'some',\n",
    "    'such',\n",
    "    'no',\n",
    "    'nor',\n",
    "    'not',\n",
    "    'only',\n",
    "    'own',\n",
    "    'same',\n",
    "    'so',\n",
    "    'than',\n",
    "    'too',\n",
    "    'very',\n",
    "    's',\n",
    "    't',\n",
    "    'can',\n",
    "    'will',\n",
    "    'just',\n",
    "    'don',\n",
    "    'should',\n",
    "    'now',\n",
    "    'could'\n",
    "])\n",
    "def is_not_stop_word(x):\n",
    "    return x not in stop_words\n",
    "df_word_count[\n",
    "    df_word_count['index'].apply(is_not_stop_word)\n",
    "].sort_values(by=0, ascending=False).head(3)"
   ]
  },
  {
   "cell_type": "code",
   "execution_count": 23,
   "metadata": {},
   "outputs": [],
   "source": [
    "from wordcloud import WordCloud\n",
    "wc = WordCloud()"
   ]
  },
  {
   "cell_type": "code",
   "execution_count": 24,
   "metadata": {},
   "outputs": [],
   "source": [
    "w = wc.generate_from_frequencies(word_count)"
   ]
  },
  {
   "cell_type": "code",
   "execution_count": 25,
   "metadata": {},
   "outputs": [
    {
     "data": {
      "text/plain": [
       "(-0.5, 399.5, 199.5, -0.5)"
      ]
     },
     "execution_count": 25,
     "metadata": {},
     "output_type": "execute_result"
    },
    {
     "data": {
      "image/png": "[encoded data removed]",
      "text/plain": [
       "<Figure size 432x288 with 1 Axes>"
      ]
     },
     "metadata": {},
     "output_type": "display_data"
    }
   ],
   "source": [
    "import matplotlib.pyplot as plt\n",
    "plt.imshow(w)\n",
    "plt.axis('off')\n",
    "# word frequency of news report of trade war on SCMP"
   ]
  },
  {
   "cell_type": "code",
   "execution_count": 26,
   "metadata": {},
   "outputs": [],
   "source": [
    "tttt= [\n",
    "'23 Mar 2018',     \n",
    "'24 Mar 2018',      \n",
    "'25 Mar 2018',      \n",
    "'26 Mar 2018',     \n",
    "'27 Mar 2018',      \n",
    "'28 Mar 2018',      \n",
    "'29 Mar 2018'\n",
    "]     "
   ]
  },
  {
   "cell_type": "code",
   "execution_count": 27,
   "metadata": {},
   "outputs": [
    {
     "name": "stdout",
     "output_type": "stream",
     "text": [
      "Requirement already satisfied: numpy in /Users/p17437695/Desktop/hw3/venv/lib/python3.6/site-packages\r\n"
     ]
    }
   ],
   "source": [
    "!pip install numpy"
   ]
  },
  {
   "cell_type": "code",
   "execution_count": 28,
   "metadata": {},
   "outputs": [],
   "source": [
    "import numpy as np\n",
    "import matplotlib.pyplot as plt"
   ]
  },
  {
   "cell_type": "code",
   "execution_count": 29,
   "metadata": {
    "scrolled": true
   },
   "outputs": [
    {
     "data": {
      "image/png": "[encoded data removed]",
      "text/plain": [
       "<Figure size 432x288 with 1 Axes>"
      ]
     },
     "metadata": {},
     "output_type": "display_data"
    }
   ],
   "source": [
    "matplotlib.rcParams['axes.unicode_minus'] = False\n",
    "fig, ax = plt.subplots()\n",
    "ax.plot(tttt,df['date'].value_counts(),'o')\n",
    "ax.set_title('# of news reports of \"trade war\" on SCMP')\n",
    "df['date'].value_counts().plot()\n",
    "plt.show()\n",
    "# Quantity trend of news repots of trade war on SCMP from Mar 23 to Mar 29"
   ]
  },
  {
   "cell_type": "code",
   "execution_count": 30,
   "metadata": {},
   "outputs": [],
   "source": [
    "df1=df[(df['date_num'] == 323)]"
   ]
  },
  {
   "cell_type": "code",
   "execution_count": 31,
   "metadata": {},
   "outputs": [
    {
     "data": {
      "text/html": [
       "<div>\n",
       "<style scoped>\n",
       "    .dataframe tbody tr th:only-of-type {\n",
       "        vertical-align: middle;\n",
       "    }\n",
       "\n",
       "    .dataframe tbody tr th {\n",
       "        vertical-align: top;\n",
       "    }\n",
       "\n",
       "    .dataframe thead th {\n",
       "        text-align: right;\n",
       "    }\n",
       "</style>\n",
       "<table border=\"1\" class=\"dataframe\">\n",
       "  <thead>\n",
       "    <tr style=\"text-align: right;\">\n",
       "      <th></th>\n",
       "      <th>headlines</th>\n",
       "      <th>updated_time</th>\n",
       "      <th>date</th>\n",
       "      <th>date_num</th>\n",
       "    </tr>\n",
       "  </thead>\n",
       "  <tbody>\n",
       "    <tr>\n",
       "      <th>18</th>\n",
       "      <td>‘Collateral damage to Hong Kong unavoidable’ i...</td>\n",
       "      <td>23 Mar 2018 - 11:03pm</td>\n",
       "      <td>23 Mar 2018</td>\n",
       "      <td>323</td>\n",
       "    </tr>\n",
       "    <tr>\n",
       "      <th>19</th>\n",
       "      <td>China strikes back with tariffs on US goods af...</td>\n",
       "      <td>23 Mar 2018 - 2:02pm</td>\n",
       "      <td>23 Mar 2018</td>\n",
       "      <td>323</td>\n",
       "    </tr>\n",
       "    <tr>\n",
       "      <th>20</th>\n",
       "      <td>Read China's furious response to America's US$...</td>\n",
       "      <td>23 Mar 2018 - 12:34pm</td>\n",
       "      <td>23 Mar 2018</td>\n",
       "      <td>323</td>\n",
       "    </tr>\n",
       "  </tbody>\n",
       "</table>\n",
       "</div>"
      ],
      "text/plain": [
       "                                            headlines           updated_time  \\\n",
       "18  ‘Collateral damage to Hong Kong unavoidable’ i...  23 Mar 2018 - 11:03pm   \n",
       "19  China strikes back with tariffs on US goods af...   23 Mar 2018 - 2:02pm   \n",
       "20  Read China's furious response to America's US$...  23 Mar 2018 - 12:34pm   \n",
       "\n",
       "            date  date_num  \n",
       "18  23 Mar 2018        323  \n",
       "19  23 Mar 2018        323  \n",
       "20  23 Mar 2018        323  "
      ]
     },
     "execution_count": 31,
     "metadata": {},
     "output_type": "execute_result"
    }
   ],
   "source": [
    "df1.head(3)"
   ]
  },
  {
   "cell_type": "code",
   "execution_count": 32,
   "metadata": {},
   "outputs": [],
   "source": [
    "daytime2 = []\n",
    "for time2 in df1['updated_time']:\n",
    "    daytime2.extend(str(time2).split('-'))"
   ]
  },
  {
   "cell_type": "code",
   "execution_count": 33,
   "metadata": {},
   "outputs": [
    {
     "data": {
      "text/plain": [
       "['23 Mar 2018 ', ' 11:03pm', '23 Mar 2018 ']"
      ]
     },
     "execution_count": 33,
     "metadata": {},
     "output_type": "execute_result"
    }
   ],
   "source": [
    "daytime2[:3]"
   ]
  },
  {
   "cell_type": "code",
   "execution_count": 34,
   "metadata": {},
   "outputs": [],
   "source": [
    "time = []\n",
    "for q in range(0,len(daytime2)):\n",
    "    if q % 2 !=0:\n",
    "        time.append(daytime2[q])"
   ]
  },
  {
   "cell_type": "code",
   "execution_count": 35,
   "metadata": {},
   "outputs": [
    {
     "data": {
      "text/plain": [
       "[' 11:03pm', ' 2:02pm', ' 12:34pm']"
      ]
     },
     "execution_count": 35,
     "metadata": {},
     "output_type": "execute_result"
    }
   ],
   "source": [
    "time[:3]"
   ]
  },
  {
   "cell_type": "code",
   "execution_count": 36,
   "metadata": {},
   "outputs": [
    {
     "name": "stderr",
     "output_type": "stream",
     "text": [
      "/Users/p17437695/Desktop/hw3/venv/lib/python3.6/site-packages/ipykernel_launcher.py:1: SettingWithCopyWarning: \n",
      "A value is trying to be set on a copy of a slice from a DataFrame.\n",
      "Try using .loc[row_indexer,col_indexer] = value instead\n",
      "\n",
      "See the caveats in the documentation: http://pandas.pydata.org/pandas-docs/stable/indexing.html#indexing-view-versus-copy\n",
      "  \"\"\"Entry point for launching an IPython kernel.\n"
     ]
    }
   ],
   "source": [
    "df1['time'] = time"
   ]
  },
  {
   "cell_type": "code",
   "execution_count": 37,
   "metadata": {},
   "outputs": [
    {
     "data": {
      "text/html": [
       "<div>\n",
       "<style scoped>\n",
       "    .dataframe tbody tr th:only-of-type {\n",
       "        vertical-align: middle;\n",
       "    }\n",
       "\n",
       "    .dataframe tbody tr th {\n",
       "        vertical-align: top;\n",
       "    }\n",
       "\n",
       "    .dataframe thead th {\n",
       "        text-align: right;\n",
       "    }\n",
       "</style>\n",
       "<table border=\"1\" class=\"dataframe\">\n",
       "  <thead>\n",
       "    <tr style=\"text-align: right;\">\n",
       "      <th></th>\n",
       "      <th>headlines</th>\n",
       "      <th>updated_time</th>\n",
       "      <th>date</th>\n",
       "      <th>date_num</th>\n",
       "      <th>time</th>\n",
       "    </tr>\n",
       "  </thead>\n",
       "  <tbody>\n",
       "    <tr>\n",
       "      <th>18</th>\n",
       "      <td>‘Collateral damage to Hong Kong unavoidable’ i...</td>\n",
       "      <td>23 Mar 2018 - 11:03pm</td>\n",
       "      <td>23 Mar 2018</td>\n",
       "      <td>323</td>\n",
       "      <td>11:03pm</td>\n",
       "    </tr>\n",
       "    <tr>\n",
       "      <th>19</th>\n",
       "      <td>China strikes back with tariffs on US goods af...</td>\n",
       "      <td>23 Mar 2018 - 2:02pm</td>\n",
       "      <td>23 Mar 2018</td>\n",
       "      <td>323</td>\n",
       "      <td>2:02pm</td>\n",
       "    </tr>\n",
       "    <tr>\n",
       "      <th>20</th>\n",
       "      <td>Read China's furious response to America's US$...</td>\n",
       "      <td>23 Mar 2018 - 12:34pm</td>\n",
       "      <td>23 Mar 2018</td>\n",
       "      <td>323</td>\n",
       "      <td>12:34pm</td>\n",
       "    </tr>\n",
       "  </tbody>\n",
       "</table>\n",
       "</div>"
      ],
      "text/plain": [
       "                                            headlines           updated_time  \\\n",
       "18  ‘Collateral damage to Hong Kong unavoidable’ i...  23 Mar 2018 - 11:03pm   \n",
       "19  China strikes back with tariffs on US goods af...   23 Mar 2018 - 2:02pm   \n",
       "20  Read China's furious response to America's US$...  23 Mar 2018 - 12:34pm   \n",
       "\n",
       "            date  date_num      time  \n",
       "18  23 Mar 2018        323   11:03pm  \n",
       "19  23 Mar 2018        323    2:02pm  \n",
       "20  23 Mar 2018        323   12:34pm  "
      ]
     },
     "execution_count": 37,
     "metadata": {},
     "output_type": "execute_result"
    }
   ],
   "source": [
    "df1.head(3)"
   ]
  },
  {
   "cell_type": "code",
   "execution_count": 38,
   "metadata": {},
   "outputs": [
    {
     "data": {
      "text/plain": [
       " 1:07pm     35\n",
       " 12:05pm    33\n",
       " 12:58pm    16\n",
       " 12:43pm     6\n",
       " 2:02pm      1\n",
       " 3:04pm      1\n",
       " 3:02pm      1\n",
       " 11:03pm     1\n",
       " 12:34pm     1\n",
       "Name: time, dtype: int64"
      ]
     },
     "execution_count": 38,
     "metadata": {},
     "output_type": "execute_result"
    }
   ],
   "source": [
    "df1['time'].value_counts()"
   ]
  },
  {
   "cell_type": "code",
   "execution_count": 39,
   "metadata": {},
   "outputs": [],
   "source": [
    "dddd = [\n",
    " '1:07pm',\n",
    " '12:05pm', \n",
    " '12:58pm',\n",
    " '12:43pm',   \n",
    " '3:02pm',\n",
    " '11:03pm',   \n",
    " '12:34pm',  \n",
    " '2:02pm',\n",
    " '3:04pm',            \n",
    "]"
   ]
  },
  {
   "cell_type": "code",
   "execution_count": 40,
   "metadata": {},
   "outputs": [
    {
     "data": {
      "image/png": "[encoded data removed]",
      "text/plain": [
       "<Figure size 1584x576 with 1 Axes>"
      ]
     },
     "metadata": {},
     "output_type": "display_data"
    }
   ],
   "source": [
    "N = 9\n",
    "x = dddd\n",
    "y =  np.random.rand(N)\n",
    "area = [1,1,1,1,1,1,1,1,1]\n",
    "colors = np.random.rand(N)\n",
    "plt.figure(figsize = (22,8))\n",
    "for i in range(0,7):\n",
    "    area[i] = np.pi *(df1['time'].value_counts()[i]*5)**2\n",
    "plt.scatter(x,y,s=area, c=colors,alpha=0.5)\n",
    "plt.show()\n",
    "# news report of trade war released on SCMP on Mar 23"
   ]
  },
  {
   "cell_type": "code",
   "execution_count": null,
   "metadata": {},
   "outputs": [],
   "source": []
  }
 ],
 "metadata": {
  "kernelspec": {
   "display_name": "Python 3",
   "language": "python",
   "name": "python3"
  },
  "language_info": {
   "codemirror_mode": {
    "name": "ipython",
    "version": 3
   },
   "file_extension": ".py",
   "mimetype": "text/x-python",
   "name": "python",
   "nbconvert_exporter": "python",
   "pygments_lexer": "ipython3",
   "version": "3.6.4"
  }
 },
 "nbformat": 4,
 "nbformat_minor": 2
}
