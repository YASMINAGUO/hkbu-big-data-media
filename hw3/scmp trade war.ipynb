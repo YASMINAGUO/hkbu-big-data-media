{
 "cells": [
  {
   "cell_type": "code",
   "execution_count": 1,
   "metadata": {},
   "outputs": [
    {
     "name": "stdout",
     "output_type": "stream",
     "text": [
      "Requirement already satisfied: requests in ./venv/lib/python3.6/site-packages\n",
      "Requirement already satisfied: idna<2.7,>=2.5 in ./venv/lib/python3.6/site-packages (from requests)\n",
      "Requirement already satisfied: urllib3<1.23,>=1.21.1 in ./venv/lib/python3.6/site-packages (from requests)\n",
      "Requirement already satisfied: chardet<3.1.0,>=3.0.2 in ./venv/lib/python3.6/site-packages (from requests)\n",
      "Requirement already satisfied: certifi>=2017.4.17 in ./venv/lib/python3.6/site-packages (from requests)\n",
      "Collecting csv\n",
      "\u001b[31m  Could not find a version that satisfies the requirement csv (from versions: )\u001b[0m\n",
      "\u001b[31mNo matching distribution found for csv\u001b[0m\n",
      "Requirement already satisfied: bs4 in ./venv/lib/python3.6/site-packages\n",
      "Requirement already satisfied: beautifulsoup4 in ./venv/lib/python3.6/site-packages (from bs4)\n"
     ]
    }
   ],
   "source": [
    "!pip install requests\n",
    "!pip install csv\n",
    "!pip install bs4"
   ]
  },
  {
   "cell_type": "code",
   "execution_count": 2,
   "metadata": {},
   "outputs": [],
   "source": [
    "import requests\n",
    "import csv\n",
    "from bs4 import BeautifulSoup"
   ]
  },
  {
   "cell_type": "code",
   "execution_count": 3,
   "metadata": {},
   "outputs": [],
   "source": [
    "resp = requests.get('http://www.scmp.com/topics/us-china-trade-war-all-stories')\n",
    "html_str = resp.text\n",
    "mypage = BeautifulSoup(html_str,'html.parser')"
   ]
  },
  {
   "cell_type": "code",
   "execution_count": 4,
   "metadata": {},
   "outputs": [],
   "source": [
    "page_next= []\n",
    "url= 'http://www.scmp.com/topics/us-china-trade-war-all-stories'\n",
    "for q in range (-1,3):\n",
    "    page_number=str(q+1)\n",
    "    url_next=url+ '?page=' + page_number\n",
    "    page_next.append(url_next)"
   ]
  },
  {
   "cell_type": "code",
   "execution_count": 5,
   "metadata": {},
   "outputs": [
    {
     "data": {
      "text/plain": [
       "['http://www.scmp.com/topics/us-china-trade-war-all-stories?page=0',\n",
       " 'http://www.scmp.com/topics/us-china-trade-war-all-stories?page=1',\n",
       " 'http://www.scmp.com/topics/us-china-trade-war-all-stories?page=2',\n",
       " 'http://www.scmp.com/topics/us-china-trade-war-all-stories?page=3']"
      ]
     },
     "execution_count": 5,
     "metadata": {},
     "output_type": "execute_result"
    }
   ],
   "source": [
    "page_next"
   ]
  },
  {
   "cell_type": "code",
   "execution_count": 44,
   "metadata": {},
   "outputs": [],
   "source": [
    "lists = []\n",
    "datescmp = []\n",
    "b = 0\n",
    "lists = []\n",
    "for page in page_next: \n",
    "    i = 0\n",
    "    b = b + 1\n",
    "    l1 = requests.get(page).text\n",
    "    mypage= BeautifulSoup(l1,'html.parser')\n",
    "    headlines = mypage.find_all('h3',attrs ={'class':'node-title lvl_11-title'})\n",
    "    for headline in headlines:\n",
    "        lists.append(headline.text)\n",
    "    Bigheadline = mypage.find_all('h2',attrs ={'class':'node-title lvl_3-title'})\n",
    "    for name in Bigheadline:\n",
    "        lists.append(name.text)\n",
    "    mydate= mypage.find_all('time',attrs ={'class':'updated'})\n",
    "    for dates in mydate:\n",
    "        i = i+1\n",
    "        if b ==4:\n",
    "            if i > 26:\n",
    "                continue\n",
    "        if i > 29:\n",
    "            continue\n",
    "        datescmp.append(dates.text)\n",
    "           "
   ]
  },
  {
   "cell_type": "code",
   "execution_count": 45,
   "metadata": {
    "scrolled": false
   },
   "outputs": [
    {
     "data": {
      "text/plain": [
       "['29 Mar 2018 - 5:33pm',\n",
       " '29 Mar 2018 - 1:19pm',\n",
       " '28 Mar 2018 - 7:51pm',\n",
       " '28 Mar 2018 - 11:21pm',\n",
       " '28 Mar 2018 - 10:28pm',\n",
       " '27 Mar 2018 - 11:27pm',\n",
       " '27 Mar 2018 - 8:57am',\n",
       " '26 Mar 2018 - 7:11pm',\n",
       " '26 Mar 2018 - 11:02pm',\n",
       " '25 Mar 2018 - 11:16pm',\n",
       " '25 Mar 2018 - 2:58pm',\n",
       " '25 Mar 2018 - 12:45am',\n",
       " '24 Mar 2018 - 11:26pm',\n",
       " '24 Mar 2018 - 11:37pm',\n",
       " '24 Mar 2018 - 8:47pm',\n",
       " '24 Mar 2018 - 6:30am',\n",
       " '24 Mar 2018 - 8:47pm',\n",
       " '24 Mar 2018 - 9:28am',\n",
       " '23 Mar 2018 - 11:03pm',\n",
       " '23 Mar 2018 - 2:02pm',\n",
       " '23 Mar 2018 - 12:34pm',\n",
       " '23 Mar 2018 - 3:04pm',\n",
       " '23 Mar 2018 - 12:05pm',\n",
       " '23 Mar 2018 - 12:05pm',\n",
       " '23 Mar 2018 - 3:02pm',\n",
       " '23 Mar 2018 - 12:05pm',\n",
       " '23 Mar 2018 - 12:43pm',\n",
       " '23 Mar 2018 - 1:07pm',\n",
       " '23 Mar 2018 - 1:07pm',\n",
       " '23 Mar 2018 - 12:58pm',\n",
       " '23 Mar 2018 - 1:07pm',\n",
       " '23 Mar 2018 - 1:07pm',\n",
       " '23 Mar 2018 - 1:07pm',\n",
       " '23 Mar 2018 - 12:05pm',\n",
       " '23 Mar 2018 - 1:07pm',\n",
       " '23 Mar 2018 - 12:05pm',\n",
       " '23 Mar 2018 - 12:58pm',\n",
       " '23 Mar 2018 - 12:05pm',\n",
       " '23 Mar 2018 - 12:05pm',\n",
       " '23 Mar 2018 - 12:05pm',\n",
       " '23 Mar 2018 - 12:05pm',\n",
       " '23 Mar 2018 - 12:43pm',\n",
       " '23 Mar 2018 - 1:07pm',\n",
       " '23 Mar 2018 - 1:07pm',\n",
       " '23 Mar 2018 - 12:05pm',\n",
       " '23 Mar 2018 - 12:05pm',\n",
       " '23 Mar 2018 - 12:43pm',\n",
       " '23 Mar 2018 - 12:05pm',\n",
       " '23 Mar 2018 - 12:05pm',\n",
       " '23 Mar 2018 - 1:07pm',\n",
       " '23 Mar 2018 - 12:05pm',\n",
       " '23 Mar 2018 - 1:07pm',\n",
       " '23 Mar 2018 - 12:05pm',\n",
       " '23 Mar 2018 - 12:58pm',\n",
       " '23 Mar 2018 - 12:58pm',\n",
       " '23 Mar 2018 - 12:05pm',\n",
       " '23 Mar 2018 - 12:43pm',\n",
       " '23 Mar 2018 - 12:05pm',\n",
       " '23 Mar 2018 - 12:58pm',\n",
       " '23 Mar 2018 - 1:07pm',\n",
       " '23 Mar 2018 - 12:05pm',\n",
       " '23 Mar 2018 - 1:07pm',\n",
       " '23 Mar 2018 - 12:05pm',\n",
       " '23 Mar 2018 - 12:05pm',\n",
       " '23 Mar 2018 - 12:58pm',\n",
       " '23 Mar 2018 - 12:05pm',\n",
       " '23 Mar 2018 - 12:05pm',\n",
       " '23 Mar 2018 - 12:58pm',\n",
       " '23 Mar 2018 - 12:05pm',\n",
       " '23 Mar 2018 - 12:05pm',\n",
       " '23 Mar 2018 - 1:07pm',\n",
       " '23 Mar 2018 - 12:05pm',\n",
       " '23 Mar 2018 - 12:58pm',\n",
       " '23 Mar 2018 - 1:07pm',\n",
       " '23 Mar 2018 - 12:05pm',\n",
       " '23 Mar 2018 - 1:07pm',\n",
       " '23 Mar 2018 - 12:05pm',\n",
       " '23 Mar 2018 - 12:05pm',\n",
       " '23 Mar 2018 - 12:05pm',\n",
       " '23 Mar 2018 - 1:07pm',\n",
       " '23 Mar 2018 - 12:58pm',\n",
       " '23 Mar 2018 - 12:43pm',\n",
       " '23 Mar 2018 - 1:07pm',\n",
       " '23 Mar 2018 - 1:07pm',\n",
       " '23 Mar 2018 - 1:07pm',\n",
       " '23 Mar 2018 - 12:58pm',\n",
       " '23 Mar 2018 - 1:07pm',\n",
       " '23 Mar 2018 - 1:07pm',\n",
       " '23 Mar 2018 - 12:43pm',\n",
       " '23 Mar 2018 - 1:07pm',\n",
       " '23 Mar 2018 - 12:05pm',\n",
       " '23 Mar 2018 - 12:05pm',\n",
       " '23 Mar 2018 - 12:58pm',\n",
       " '23 Mar 2018 - 12:58pm',\n",
       " '23 Mar 2018 - 12:58pm',\n",
       " '23 Mar 2018 - 12:05pm',\n",
       " '23 Mar 2018 - 1:07pm',\n",
       " '23 Mar 2018 - 12:58pm',\n",
       " '23 Mar 2018 - 1:07pm',\n",
       " '23 Mar 2018 - 1:07pm',\n",
       " '23 Mar 2018 - 1:07pm',\n",
       " '23 Mar 2018 - 12:58pm',\n",
       " '23 Mar 2018 - 12:58pm',\n",
       " '23 Mar 2018 - 1:07pm',\n",
       " '23 Mar 2018 - 1:07pm',\n",
       " '23 Mar 2018 - 12:05pm',\n",
       " '23 Mar 2018 - 1:07pm',\n",
       " '23 Mar 2018 - 1:07pm',\n",
       " '23 Mar 2018 - 1:07pm',\n",
       " '23 Mar 2018 - 1:07pm',\n",
       " '23 Mar 2018 - 1:07pm',\n",
       " '23 Mar 2018 - 1:07pm',\n",
       " '23 Mar 2018 - 1:07pm']"
      ]
     },
     "execution_count": 45,
     "metadata": {},
     "output_type": "execute_result"
    }
   ],
   "source": [
    "datescmp"
   ]
  },
  {
   "cell_type": "code",
   "execution_count": 46,
   "metadata": {},
   "outputs": [
    {
     "data": {
      "text/plain": [
       "113"
      ]
     },
     "execution_count": 46,
     "metadata": {},
     "output_type": "execute_result"
    }
   ],
   "source": [
    "len(datescmp)"
   ]
  },
  {
   "cell_type": "code",
   "execution_count": 52,
   "metadata": {},
   "outputs": [
    {
     "data": {
      "text/plain": [
       "['US officials to meet farm groups as trade war fears mount',\n",
       " '‘America first’ shouldn’t target Chinese students at US universities\\xa0',\n",
       " 'Trump seeks French and German support in China trade spats',\n",
       " 'Why trade war is a lose-lose for the US and China',\n",
       " 'US’ largest pork maker eyes new markets amid China trade war fears',\n",
       " 'China demands US tariff compensation, setting stage for WTO showdown',\n",
       " 'Amid a trade spat, grown-ups must steer China-US ties to avoid war',\n",
       " 'Mnuchin ‘hopeful’ US and China can reach deal over trade',\n",
       " 'China’s new central bank chief shrugs off financial risks from trade war',\n",
       " 'Trade war will be ‘harmful for all’ China’s vice-premier says',\n",
       " 'How might China hit back at the US? Let us count the ways …',\n",
       " 'Apple’s Tim Cook calls for calm heads amid China-US tensions',\n",
       " 'US firms Apple, Boeing would be big losers in trade war with China',\n",
       " 'US politicians may face voters’ ire as China hits US farm products over tariffs',\n",
       " 'What Wall Street is saying after US$900 billion global equity wipeout',\n",
       " 'US, South Korea ‘very close’ to trade deal as tariffs begin, mainly aimed at China',\n",
       " 'Trump tariffs imposed ‘because China pledges didn’t convince US’',\n",
       " 'Hong Kong vows to hit back against ‘discriminatory’ US trade actions',\n",
       " '‘Collateral damage to Hong Kong unavoidable’ in US-China trade war',\n",
       " 'China strikes back with tariffs on US goods after US$60 billion penalties',\n",
       " \"Read China's furious response to America's US$60b tariffs in full\",\n",
       " 'Wall Street has biggest drop in 6 weeks after Trump signs China tariffs',\n",
       " 'US allies to get a pause on metal tariffs - but no such luck for China',\n",
       " 'China warns it ‘will fight to the end‘ in trade war after US$60b tariffs',\n",
       " 'China to open markets ‘beyond expectations’ as US tariffs loom',\n",
       " 'Trump’s trade tariffs may release the four horsemen of economic doom',\n",
       " 'US ‘not planning to start a trade war’, Mnuchin claims',\n",
       " 'Amid White House chaos, Wang may have no one to meet at trade talks',\n",
       " 'China will ‘fight to the end’ if US doesn’t stop trade war',\n",
       " 'Trade war with China would be ‘devastating’ for American families',\n",
       " 'China, US flex muscles at G20 meeting as trade war looms',\n",
       " 'Putin, North Korea and a US trade war - Chinese Premier’s closing speech for Two Sessions',\n",
       " 'China ‘to be hit with US$60 billion in annual tariffs on Friday’',\n",
       " 'Trump’s opening salvo in trade war with China misses its mark',\n",
       " 'Xi Jinping and Angela Merkel look to G20 to tackle steel overcapacity',\n",
       " 'West must wake up to the reality that others are getting rich, too',\n",
       " 'Trump’s plan for China tariffs ‘could devastate US economy’',\n",
       " 'Trump’s US$30b ‘China IP theft tariff’ sparks ire from US companies',\n",
       " 'Are you ready to pay more for that iPhone and ThinkPad laptop?',\n",
       " 'Trump plans to punish US$60bn in Chinese tech imports with new tariffs',\n",
       " 'US steel, aluminium tariffs may backfire, giving China upper hand',\n",
       " 'China-US trade war would be ‘catastrophic for the whole world’',\n",
       " 'Hong Kong’s economy could be collateral damage in US, China trade war',\n",
       " 'Never mind China, could Trump country be hardest hit by tariffs?',\n",
       " 'Chinese steelmakers slide as Trump levies 25pc tariff on US imports',\n",
       " 'Trump’s tariffs plan: his most crass, counterproductive malaprop yet',\n",
       " 'Trump signs off on stiff tariffs, singling out ‘unfair’ China',\n",
       " '11 countries sign Pacific trade deal as Trump imposes tariffs',\n",
       " 'Starting a trade war is ‘wrong remedy’ for disputes, China tells US',\n",
       " 'US tariffs? Chinese steelmakers have other things to worry about',\n",
       " 'US mulling tough curbs on Chinese investment, trade: sources',\n",
       " 'Tariff fallout: top Trump economic adviser Gary Cohn resigns',\n",
       " 'Five reasons why the US is not prepared for a trade war with China',\n",
       " 'Strong US dollar likely to be early casualty in Trump’s trade wars',\n",
       " 'Trump to push ahead with tariffs despite ‘worried’ Paul Ryan',\n",
       " 'Donald Trump has a point on steel tariffs, but no solution',\n",
       " 'WTO complaint weighed over US tariffs on aluminium imports',\n",
       " 'The US needs more trade with China, not less\\xa0',\n",
       " 'China ‘doesn’t want trade war’ with US as talks planned for Beijing',\n",
       " 'Trump escalates trade war in a tweet, now threatens allies',\n",
       " 'Locked and loaded, China and US are marching into a trade war',\n",
       " 'China vows to work with other nations to counter Trump tariffs',\n",
       " 'Trump pal dumps steel-linked stocks days before tariff talks',\n",
       " 'Trade war signalled by Trump has to be stopped at all costs',\n",
       " '‘Trade wars are good and easy to win’: Trump defends tariff measures',\n",
       " 'Trump’s trade tariffs put Xi’s economic envoy in the shade',\n",
       " 'Someone tell Trump the trade war is over. China won',\n",
       " 'HK, China stocks fall after Trump plans metal tariffs on imports',\n",
       " 'US markets fall hard as Trump hits China with steel, aluminium tariffs',\n",
       " 'Did White House just announce a trade war with\\xa0‘hostile’ China?',\n",
       " 'US duties foil up to 15 per cent of China’s aluminium exports',\n",
       " 'Why the US isn’t ready for a full-blown trade war with East Asia',\n",
       " 'Washington and Beijing in ‘active’ talks to avoid trade war: Mnuchin\\xa0',\n",
       " 'Hong Kong condemns US tariff plan as ‘discriminatory act’',\n",
       " 'Is China ready for what US could unleash in trade war?',\n",
       " 'US officials steel for trade talks with Liu He as Trump mulls tariffs',\n",
       " 'China vows to strike back as US talks tariffs on steel and aluminium',\n",
       " 'US eyes 24pc tariffs on China and Russia to counter steel and aluminium glut',\n",
       " 'The humble crop that could be at centre of China-US trade war',\n",
       " 'A US trade war with China won’t be like its 1980s feud with Japan\\xa0',\n",
       " 'Tools of the trade war: Trump’s tariffs may hurt Asia and the US',\n",
       " 'China, US ‘to resume economic dialogue’ amid trade war fears',\n",
       " 'China sends top envoy to US to talk trade and North Korea',\n",
       " 'Expect confrontation as ‘trade warrior’ takes on China, observers say',\n",
       " 'Trump has declared a trade war against whole world',\n",
       " 'Five sparks that could ignite a China-US trade war',\n",
       " 'Fire, fury of global trade war could tip markets into major meltdown',\n",
       " 'US tariffs may mean a trade war, but China has its own weapons, too',\n",
       " 'China should ‘be ready for a trade war’ after Trump’s Davos speech',\n",
       " 'Adviser to America’s biggest creditor calls for reducing US Treasuries',\n",
       " 'Chinese stocks spooked by Trump tariffs reverse some losses',\n",
       " 'Mr Trump, do the sums on tourism before starting a China trade war',\n",
       " 'Americans love Chinese goods, even as Trump itches for a trade war',\n",
       " 'Does it take a trade war to settle Sino-US disputes and skirmishes?',\n",
       " 'Trump ‘may be ready to press’ the punitive China tariff button',\n",
       " '‘Tit-for-tat’ trade war with China could hurt US companies',\n",
       " 'Why China may have the upper hand in Sino-US trade war',\n",
       " 'US probe ‘could set off China trade skirmish over agriculture’',\n",
       " 'US could launch trade war with China ‘within months’',\n",
       " 'Beijing, Washington move closer to trade war as probes target China',\n",
       " 'Why Donald Trump is preparing for a trade war with China',\n",
       " 'A US-China trade war would benefit no one, least of all Americans',\n",
       " 'Trump’s China visit will help avoid ‘trade war, currency war’',\n",
       " 'We can avoid trade war ... if China stops ‘appropriating’ US tech: Bannon',\n",
       " 'Trump ‘rejected China’s offer to cut steel overcapacity’',\n",
       " 'Trump launches US probe into ‘unlawful’ China trade practices',\n",
       " 'US economy buoys Chinese trade surplus but ‘trade war unlikely’',\n",
       " 'Which US companies are most at risk in a trade war with China?',\n",
       " 'US and China talks end in deadlock as threat of trade war rises',\n",
       " 'Chinese, US executives call for ‘prompt resolution’ of trade rows',\n",
       " 'Warning of trade war over North Korea',\n",
       " 'Chinese premier calls on Trump to work with China',\n",
       " 'US firms in China fear fallout from tit-for-tat trade war']"
      ]
     },
     "execution_count": 52,
     "metadata": {},
     "output_type": "execute_result"
    }
   ],
   "source": [
    "lists"
   ]
  },
  {
   "cell_type": "code",
   "execution_count": 53,
   "metadata": {},
   "outputs": [
    {
     "data": {
      "text/plain": [
       "113"
      ]
     },
     "execution_count": 53,
     "metadata": {},
     "output_type": "execute_result"
    }
   ],
   "source": [
    "len(lists)"
   ]
  },
  {
   "cell_type": "code",
   "execution_count": 54,
   "metadata": {},
   "outputs": [
    {
     "data": {
      "text/plain": [
       "113"
      ]
     },
     "execution_count": 54,
     "metadata": {},
     "output_type": "execute_result"
    }
   ],
   "source": [
    "len(datescmp)"
   ]
  },
  {
   "cell_type": "code",
   "execution_count": 55,
   "metadata": {},
   "outputs": [],
   "source": [
    "with open('scmp.csv','w', encoding=\"utf-8\") as f:\n",
    "    writers = csv.writer(f) \n",
    "    header = ['headlines', 'updated_time']\n",
    "    writers.writerow(header)\n",
    "    writers.writerows(zip(lists,datescmp))"
   ]
  },
  {
   "cell_type": "code",
   "execution_count": 274,
   "metadata": {},
   "outputs": [
    {
     "name": "stdout",
     "output_type": "stream",
     "text": [
      "Help on built-in function writer in module _csv:\n",
      "\n",
      "writer(...)\n",
      "    csv_writer = csv.writer(fileobj [, dialect='excel']\n",
      "                                [optional keyword args])\n",
      "        for row in sequence:\n",
      "            csv_writer.writerow(row)\n",
      "    \n",
      "        [or]\n",
      "    \n",
      "        csv_writer = csv.writer(fileobj [, dialect='excel']\n",
      "                                [optional keyword args])\n",
      "        csv_writer.writerows(rows)\n",
      "    \n",
      "    The \"fileobj\" argument can be any object that supports the file API.\n",
      "\n"
     ]
    }
   ],
   "source": [
    "help(csv.writer)"
   ]
  },
  {
   "cell_type": "code",
   "execution_count": null,
   "metadata": {},
   "outputs": [],
   "source": []
  }
 ],
 "metadata": {
  "kernelspec": {
   "display_name": "Python 3",
   "language": "python",
   "name": "python3"
  },
  "language_info": {
   "codemirror_mode": {
    "name": "ipython",
    "version": 3
   },
   "file_extension": ".py",
   "mimetype": "text/x-python",
   "name": "python",
   "nbconvert_exporter": "python",
   "pygments_lexer": "ipython3",
   "version": "3.6.4"
  }
 },
 "nbformat": 4,
 "nbformat_minor": 2
}
